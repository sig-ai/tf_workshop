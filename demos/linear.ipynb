{
 "cells": [
  {
   "cell_type": "markdown",
   "metadata": {},
   "source": [
    "# Linear Regression Example\n",
    "\n",
    "A linear regression learning algorithm example using TensorFlow library.\n",
    "\n",
    "- Author: Aymeric Damien\n",
    "- Project: https://github.com/aymericdamien/TensorFlow-Examples/"
   ]
  },
  {
   "cell_type": "code",
   "execution_count": 10,
   "metadata": {
    "collapsed": true
   },
   "outputs": [],
   "source": [
    "import tensorflow as tf\n",
    "import numpy\n",
    "import matplotlib.pyplot as plt\n",
    "rng = numpy.random"
   ]
  },
  {
   "cell_type": "code",
   "execution_count": 3,
   "metadata": {
    "collapsed": true
   },
   "outputs": [],
   "source": [
    "# Parameters\n",
    "learning_rate = 0.01\n",
    "training_epochs = 1000\n",
    "display_step = 50"
   ]
  },
  {
   "cell_type": "code",
   "execution_count": 4,
   "metadata": {
    "collapsed": true
   },
   "outputs": [],
   "source": [
    "# Training Data\n",
    "train_X = numpy.asarray([3.3,4.4,5.5,6.71,6.93,4.168,9.779,6.182,7.59,2.167,\n",
    "                         7.042,10.791,5.313,7.997,5.654,9.27,3.1])[:,None]\n",
    "train_Y = numpy.asarray([1.7,2.76,2.09,3.19,1.694,1.573,3.366,2.596,2.53,1.221,\n",
    "                         2.827,3.465,1.65,2.904,2.42,2.94,1.3])[:,None]\n",
    "n_samples = train_X.shape[0]"
   ]
  },
  {
   "cell_type": "code",
   "execution_count": 11,
   "metadata": {
    "collapsed": true
   },
   "outputs": [],
   "source": [
    "# tf Graph Input\n",
    "X = tf.placeholder(\"float\", shape=[1])\n",
    "Y = tf.placeholder(\"float\", shape=[1])\n",
    "\n",
    "# Set model weights\n"
   ]
  },
  {
   "cell_type": "code",
   "execution_count": 13,
   "metadata": {},
   "outputs": [],
   "source": [
    "# define a linear function\n",
    "def linear(x, output_features, return_params=False):\n",
    "    x_flat = tf.reshape(x,[-1])\n",
    "    input_features=int(x_flat.get_shape()[0])\n",
    "    W = tf.Variable(tf.random_uniform(shape=[input_features, output_features], name=\"weight\"))\n",
    "    b = tf.Variable(tf.random_uniform(shape=[output_features], name=\"bias\"))\n",
    "    pred = tf.add(tf.multiply(X, W), b)\n",
    "    return pred, W, b\n",
    "#pred = linear(X, 1)\n",
    "pred, W, b = linear(X,1, return_params=True)"
   ]
  },
  {
   "cell_type": "code",
   "execution_count": 14,
   "metadata": {
    "collapsed": true
   },
   "outputs": [],
   "source": [
    "# Mean squared error\n",
    "cost = tf.reduce_mean(tf.pow(pred-Y, 2))/(2*n_samples)\n",
    "# Gradient descent\n",
    "optimizer = tf.train.GradientDescentOptimizer(learning_rate).minimize(cost)"
   ]
  },
  {
   "cell_type": "code",
   "execution_count": 16,
   "metadata": {
    "collapsed": true
   },
   "outputs": [],
   "source": [
    "# Initialize the variables (i.e. assign their default value)\n",
    "init = tf.global_variables_initializer()"
   ]
  },
  {
   "cell_type": "code",
   "execution_count": 17,
   "metadata": {},
   "outputs": [
    {
     "name": "stdout",
     "output_type": "stream",
     "text": [
      "Epoch: 0050 cost= 0.089763775 W= [[ 0.31294233]] b= [ 0.34574026]\n",
      "Epoch: 0100 cost= 0.088284335 W= [[ 0.30917472]] b= [ 0.37284431]\n",
      "Epoch: 0150 cost= 0.086975939 W= [[ 0.30563107]] b= [ 0.39833665]\n",
      "Epoch: 0200 cost= 0.085818859 W= [[ 0.3022984]] b= [ 0.4223122]\n",
      "Epoch: 0250 cost= 0.084795621 W= [[ 0.29916379]] b= [ 0.44486189]\n",
      "Epoch: 0300 cost= 0.083890707 W= [[ 0.29621559]] b= [ 0.46607104]\n",
      "Epoch: 0350 cost= 0.083090451 W= [[ 0.29344264]] b= [ 0.48601934]\n",
      "Epoch: 0400 cost= 0.082382814 W= [[ 0.29083478]] b= [ 0.50478041]\n",
      "Epoch: 0450 cost= 0.081757060 W= [[ 0.28838199]] b= [ 0.52242553]\n",
      "Epoch: 0500 cost= 0.081203743 W= [[ 0.28607509]] b= [ 0.53902143]\n",
      "Epoch: 0550 cost= 0.080714426 W= [[ 0.2839053]] b= [ 0.55463111]\n",
      "Epoch: 0600 cost= 0.080281805 W= [[ 0.28186455]] b= [ 0.56931192]\n",
      "Epoch: 0650 cost= 0.079899255 W= [[ 0.27994502]] b= [ 0.58312041]\n",
      "Epoch: 0700 cost= 0.079561025 W= [[ 0.27813992]] b= [ 0.59610677]\n",
      "Epoch: 0750 cost= 0.079261995 W= [[ 0.27644193]] b= [ 0.60832149]\n",
      "Epoch: 0800 cost= 0.078997611 W= [[ 0.27484506]] b= [ 0.61980915]\n",
      "Epoch: 0850 cost= 0.078763923 W= [[ 0.27334344]] b= [ 0.63061184]\n",
      "Epoch: 0900 cost= 0.078557305 W= [[ 0.27193102]] b= [ 0.64077264]\n",
      "Epoch: 0950 cost= 0.078374667 W= [[ 0.27060267]] b= [ 0.65032852]\n",
      "Epoch: 1000 cost= 0.078213213 W= [[ 0.26935333]] b= [ 0.6593163]\n",
      "Optimization Finished!\n"
     ]
    },
    {
     "data": {
      "image/png": "[encoded data removed]",
      "text/plain": [
       "<matplotlib.figure.Figure at 0x7fce084eefd0>"
      ]
     },
     "metadata": {},
     "output_type": "display_data"
    }
   ],
   "source": [
    "# Start training\n",
    "with tf.Session() as sess:\n",
    "    sess.run(init)\n",
    "\n",
    "    # Fit all training data\n",
    "    for epoch in range(training_epochs):\n",
    "        for (x, y) in zip(train_X, train_Y):\n",
    "            sess.run(optimizer, feed_dict={X: x, Y: y})\n",
    "\n",
    "        #Display logs per epoch step\n",
    "        if (epoch+1) % display_step == 0:\n",
    "            c=0\n",
    "            for (x, y) in zip(train_X, train_Y):\n",
    "                c+= sess.run(cost, feed_dict={X: x, Y:y})\n",
    "            print \"Epoch:\", '%04d' % (epoch+1), \"cost=\", \"{:.9f}\".format(c), \\\n",
    "                \"W=\", sess.run(W), \"b=\", sess.run(b)\n",
    "\n",
    "    print \"Optimization Finished!\"\n",
    "\n",
    "    #Graphic display\n",
    "    plt.plot(train_X, train_Y, 'ro', label='Original data')\n",
    "    plt.plot(train_X, sess.run(W) * train_X + sess.run(b), label='Fitted line')\n",
    "    plt.legend()\n",
    "    plt.show()"
   ]
  },
  {
   "cell_type": "code",
   "execution_count": 9,
   "metadata": {
    "collapsed": true
   },
   "outputs": [],
   "source": [
    "# Regression result"
   ]
  }
 ],
 "metadata": {
  "anaconda-cloud": {},
  "kernelspec": {
   "display_name": "Python 2",
   "language": "python",
   "name": "python2"
  },
  "language_info": {
   "codemirror_mode": {
    "name": "ipython",
    "version": 2
   },
   "file_extension": ".py",
   "mimetype": "text/x-python",
   "name": "python",
   "nbconvert_exporter": "python",
   "pygments_lexer": "ipython2",
   "version": "2.7.13"
  }
 },
 "nbformat": 4,
 "nbformat_minor": 1
}
