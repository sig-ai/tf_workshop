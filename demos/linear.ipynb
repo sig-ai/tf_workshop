{
 "cells": [
  {
   "cell_type": "markdown",
   "metadata": {},
   "source": [
    "# Linear Regression Example\n",
    "\n",
    "A linear regression learning algorithm example using TensorFlow library.\n",
    "\n",
    "- Author: Aymeric Damien\n",
    "- Project: https://github.com/aymericdamien/TensorFlow-Examples/"
   ]
  },
  {
   "cell_type": "code",
   "execution_count": 1,
   "metadata": {
    "collapsed": true
   },
   "outputs": [],
   "source": [
    "import tensorflow as tf\n",
    "import numpy\n",
    "import matplotlib.pyplot as plt\n",
    "rng = numpy.random"
   ]
  },
  {
   "cell_type": "code",
   "execution_count": 2,
   "metadata": {
    "collapsed": true
   },
   "outputs": [],
   "source": [
    "# Parameters\n",
    "learning_rate = 0.01\n",
    "training_epochs = 1000\n",
    "display_step = 50"
   ]
  },
  {
   "cell_type": "code",
   "execution_count": 3,
   "metadata": {
    "collapsed": true
   },
   "outputs": [],
   "source": [
    "# Training Data\n",
    "train_X = numpy.asarray([3.3,4.4,5.5,6.71,6.93,4.168,9.779,6.182,7.59,2.167,\n",
    "                         7.042,10.791,5.313,7.997,5.654,9.27,3.1])[:,None]\n",
    "train_Y = numpy.asarray([1.7,2.76,2.09,3.19,1.694,1.573,3.366,2.596,2.53,1.221,\n",
    "                         2.827,3.465,1.65,2.904,2.42,2.94,1.3])[:,None]\n",
    "n_samples = train_X.shape[0]"
   ]
  },
  {
   "cell_type": "code",
   "execution_count": 4,
   "metadata": {
    "collapsed": true
   },
   "outputs": [],
   "source": [
    "# tf Graph Input\n",
    "X = tf.placeholder(\"float\", shape=[1])\n",
    "Y = tf.placeholder(\"float\", shape=[1])\n",
    "\n",
    "# Set model weights\n"
   ]
  },
  {
   "cell_type": "code",
   "execution_count": 5,
   "metadata": {
    "collapsed": true
   },
   "outputs": [],
   "source": [
    "# define a linear function\n",
    "def linear(x, output_features, return_params=False):\n",
    "    x_flat = tf.reshape(x,[-1])\n",
    "    input_features=int(x_flat.get_shape()[0])\n",
    "    W = tf.Variable(tf.random_uniform(shape=[input_features, output_features], name=\"weight\"))\n",
    "    b = tf.Variable(tf.random_uniform(shape=[output_features], name=\"bias\"))\n",
    "    pred = tf.add(tf.multiply(X, W), b)\n",
    "    return pred, W, b\n",
    "#pred = linear(X, 1)\n",
    "pred, W, b = linear(X,1, return_params=True)"
   ]
  },
  {
   "cell_type": "code",
   "execution_count": 6,
   "metadata": {
    "collapsed": true
   },
   "outputs": [],
   "source": [
    "# Mean squared error\n",
    "cost = tf.reduce_sum(tf.pow(pred-Y, 2))/(2*n_samples)\n",
    "# Gradient descent\n",
    "optimizer = tf.train.GradientDescentOptimizer(learning_rate).minimize(cost)"
   ]
  },
  {
   "cell_type": "code",
   "execution_count": 7,
   "metadata": {
    "collapsed": true
   },
   "outputs": [],
   "source": [
    "# Initialize the variables (i.e. assign their default value)\n",
    "init = tf.global_variables_initializer()"
   ]
  },
  {
   "cell_type": "code",
   "execution_count": 8,
   "metadata": {},
   "outputs": [
    {
     "name": "stdout",
     "output_type": "stream",
     "text": [
      "Epoch: 0050 cost= 0.084144958 W= [[ 0.29706264]] b= [ 0.45997798]\n",
      "Epoch: 0100 cost= 0.083315318 W= [[ 0.29423931]] b= [ 0.48028821]\n",
      "Epoch: 0150 cost= 0.082581671 W= [[ 0.29158422]] b= [ 0.49938944]\n",
      "Epoch: 0200 cost= 0.081932946 W= [[ 0.28908685]] b= [ 0.51735485]\n",
      "Epoch: 0250 cost= 0.081359257 W= [[ 0.28673807]] b= [ 0.53425193]\n",
      "Epoch: 0300 cost= 0.080851975 W= [[ 0.28452882]] b= [ 0.55014467]\n",
      "Epoch: 0350 cost= 0.080403423 W= [[ 0.28245097]] b= [ 0.56509262]\n",
      "Epoch: 0400 cost= 0.080006797 W= [[ 0.28049672]] b= [ 0.57915175]\n",
      "Epoch: 0450 cost= 0.079656088 W= [[ 0.27865848]] b= [ 0.59237564]\n",
      "Epoch: 0500 cost= 0.079345997 W= [[ 0.27692959]] b= [ 0.60481328]\n",
      "Epoch: 0550 cost= 0.079071880 W= [[ 0.27530372]] b= [ 0.61650962]\n",
      "Epoch: 0600 cost= 0.078829562 W= [[ 0.2737748]] b= [ 0.62750864]\n",
      "Epoch: 0650 cost= 0.078615366 W= [[ 0.27233675]] b= [ 0.6378535]\n",
      "Epoch: 0700 cost= 0.078425962 W= [[ 0.27098426]] b= [ 0.64758337]\n",
      "Epoch: 0750 cost= 0.078258574 W= [[ 0.26971221]] b= [ 0.65673465]\n",
      "Epoch: 0800 cost= 0.078110581 W= [[ 0.26851574]] b= [ 0.66534185]\n",
      "Epoch: 0850 cost= 0.077979758 W= [[ 0.26739037]] b= [ 0.67343748]\n",
      "Epoch: 0900 cost= 0.077864141 W= [[ 0.26633197]] b= [ 0.68105185]\n",
      "Epoch: 0950 cost= 0.077761953 W= [[ 0.26533657]] b= [ 0.68821275]\n",
      "Epoch: 1000 cost= 0.077671631 W= [[ 0.26440015]] b= [ 0.69494867]\n",
      "Optimization Finished!\n"
     ]
    },
    {
     "data": {
      "image/png": "[encoded data removed]",
      "text/plain": [
       "<matplotlib.figure.Figure at 0x7f39d2ad9810>"
      ]
     },
     "metadata": {},
     "output_type": "display_data"
    }
   ],
   "source": [
    "# Start training\n",
    "with tf.Session() as sess:\n",
    "    sess.run(init)\n",
    "\n",
    "    # Fit all training data\n",
    "    for epoch in range(training_epochs):\n",
    "        for (x, y) in zip(train_X, train_Y):\n",
    "            sess.run(optimizer, feed_dict={X: x, Y: y})\n",
    "\n",
    "        #Display logs per epoch step\n",
    "        if (epoch+1) % display_step == 0:\n",
    "            c=0\n",
    "            for (x, y) in zip(train_X, train_Y):\n",
    "                c+= sess.run(cost, feed_dict={X: x, Y:y})\n",
    "            print \"Epoch:\", '%04d' % (epoch+1), \"cost=\", \"{:.9f}\".format(c), \\\n",
    "                \"W=\", sess.run(W), \"b=\", sess.run(b)\n",
    "\n",
    "    print \"Optimization Finished!\"\n",
    "\n",
    "    #Graphic display\n",
    "    plt.plot(train_X, train_Y, 'ro', label='Original data')\n",
    "    plt.plot(train_X, sess.run(W) * train_X + sess.run(b), label='Fitted line')\n",
    "    plt.legend()\n",
    "    plt.show()"
   ]
  },
  {
   "cell_type": "code",
   "execution_count": 9,
   "metadata": {
    "collapsed": true
   },
   "outputs": [],
   "source": [
    "# Regression result"
   ]
  }
 ],
 "metadata": {
  "anaconda-cloud": {},
  "kernelspec": {
   "display_name": "Python 2",
   "language": "python",
   "name": "python2"
  },
  "language_info": {
   "codemirror_mode": {
    "name": "ipython",
    "version": 2
   },
   "file_extension": ".py",
   "mimetype": "text/x-python",
   "name": "python",
   "nbconvert_exporter": "python",
   "pygments_lexer": "ipython2",
   "version": "2.7.13"
  }
 },
 "nbformat": 4,
 "nbformat_minor": 1
}
