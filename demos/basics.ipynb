{
 "cells": [
  {
   "cell_type": "code",
   "execution_count": 5,
   "metadata": {
    "collapsed": true
   },
   "outputs": [],
   "source": [
    "from __future__ import division, print_function\n",
    "import tensorflow as tf\n",
    "import numpy as np\n",
    "import matplotlib.pyplot as plt"
   ]
  },
  {
   "cell_type": "code",
   "execution_count": 6,
   "metadata": {
    "collapsed": true
   },
   "outputs": [],
   "source": [
    "sess = tf.InteractiveSession() # We need a session for actual values to flow through computation graph"
   ]
  },
  {
   "cell_type": "code",
   "execution_count": 7,
   "metadata": {},
   "outputs": [
    {
     "name": "stdout",
     "output_type": "stream",
     "text": [
      "x:\n",
      "[[ 0.28189587  0.74881406  0.52063016]\n",
      " [ 0.181578    0.33071384  0.26811813]]\n",
      "y:\n",
      "[[ 0.27780669]\n",
      " [ 0.83420453]\n",
      " [ 0.71156597]]\n",
      "z:\n",
      "[[ 0.05024796]\n",
      " [ 0.65874974]]\n"
     ]
    }
   ],
   "source": [
    "## TODO: We want to multiply 2x3 and 3x1 matrixes x and y, and add a 3x1 vector z\n",
    "x = np.random.random((2,3))\n",
    "y = np.random.random((3,1))\n",
    "z = np.random.random((2,1))\n",
    "\n",
    "print('x:', x, sep='\\n')\n",
    "print('y:', y, sep='\\n')\n",
    "print('z:', z, sep='\\n')"
   ]
  },
  {
   "cell_type": "code",
   "execution_count": 30,
   "metadata": {},
   "outputs": [
    {
     "data": {
      "text/plain": [
       "18.0"
      ]
     },
     "execution_count": 30,
     "metadata": {},
     "output_type": "execute_result"
    }
   ],
   "source": [
    "## numpy Version\n",
    "\n",
    "final_np = np.mean(np.matmul(x,y) + z)\n",
    "final_np"
   ]
  },
  {
   "cell_type": "code",
   "execution_count": 31,
   "metadata": {},
   "outputs": [
    {
     "data": {
      "text/plain": [
       "<tf.Tensor 'Mean_2:0' shape=() dtype=float32>"
      ]
     },
     "execution_count": 31,
     "metadata": {},
     "output_type": "execute_result"
    }
   ],
   "source": [
    "# tensorflow version\n",
    "final_tf = tf.reduce_mean(tf.matmul(x,y) + z)\n",
    "final_tf"
   ]
  },
  {
   "cell_type": "code",
   "execution_count": 15,
   "metadata": {},
   "outputs": [
    {
     "name": "stdout",
     "output_type": "stream",
     "text": [
      "sess run:  1.14977367365\n",
      "eval sess: 1.14977367365\n",
      "eval sess: 1.14977367365\n"
     ]
    }
   ],
   "source": [
    "# To get an actual value, we need to run in a session\n",
    "print('sess run: ', sess.run(final_tf))\n",
    "# We can also call a tensor's eval method and pass in a session\n",
    "print('eval sess:', final_tf.eval(session=sess))\n",
    "# When using eval with an interactive session, the session argument is optional\n",
    "print('eval sess:', final_tf.eval())"
   ]
  },
  {
   "cell_type": "code",
   "execution_count": 16,
   "metadata": {},
   "outputs": [
    {
     "data": {
      "text/plain": [
       "array([[[ 0.6317564 ,  1.11249802],\n",
       "        [ 0.40561655,  0.60211636]],\n",
       "\n",
       "       [[ 0.49942334,  0.51901543],\n",
       "        [ 0.79068514,  1.0127383 ]],\n",
       "\n",
       "       [[ 0.43126203,  0.86200233],\n",
       "        [ 0.24960685,  0.64844905]],\n",
       "\n",
       "       [[ 0.77804898,  0.63046086],\n",
       "        [ 0.5625578 ,  0.42793546]],\n",
       "\n",
       "       [[ 1.42149332,  1.31813935],\n",
       "        [ 0.07029514,  0.11829601]]])"
      ]
     },
     "execution_count": 16,
     "metadata": {},
     "output_type": "execute_result"
    }
   ],
   "source": [
    "## Batched operations\n",
    "\n",
    "# Here we will perform batched matrix multiplication\n",
    "batch_size = 5\n",
    "N, M, K = 2,3,2\n",
    "# a_batch is a batch of 5 NxM matrices\n",
    "# b_batch is a batch of 5 MxK matrices\n",
    "a_batch = np.random.random((batch_size, N, M))\n",
    "b_batch = np.random.random((batch_size, M, K))\n",
    "\n",
    "out = tf.matmul(a_batch,b_batch)\n",
    "# out is the batch of 5 NxK matrices that result from the batch of products\n",
    "sess.run(out)\n",
    "\n",
    "## Is it kind of weird that we need to sess.run to get a constant value?"
   ]
  },
  {
   "cell_type": "code",
   "execution_count": 18,
   "metadata": {
    "collapsed": true
   },
   "outputs": [],
   "source": [
    "# In tensorflow, we typically have runtime values in our computation graph\n",
    "# in some sense, each node in the graph is a function of `Placeholders` that flow into it\n",
    "\n",
    "# So a function like this is numpy\n",
    "def matmul_and_add(x,y,z):\n",
    "    return np.matmul(x,y)+z\n",
    "\n",
    "# Could be expressed as the following computational graph\n",
    "N,M,K= 2,3,2\n",
    "# We'll be multiplying an NxM and MxK matrices and adding a Kx1 vector\n",
    "x_ph = tf.placeholder(tf.float32, shape=[N,M])\n",
    "y_ph = tf.placeholder(tf.float32, shape=[M,K])\n",
    "z_ph = tf.placeholder(tf.float32, shape=[K])\n",
    "xy = tf.matmul(x_ph,y_ph)\n",
    "out = xy+z_ph"
   ]
  },
  {
   "cell_type": "code",
   "execution_count": 19,
   "metadata": {},
   "outputs": [
    {
     "name": "stdout",
     "output_type": "stream",
     "text": [
      "x:\n",
      "[[ 2.  2.  1.]\n",
      " [ 1.  4.  3.]]\n",
      "y:\n",
      "[[ 2.  2.]\n",
      " [ 2.  4.]\n",
      " [ 0.  4.]]\n",
      "z:\n",
      "[2 2]\n",
      "\n",
      "\n",
      "OUTPUTS \n",
      "\n",
      "np: \n",
      " [[ 10.  18.]\n",
      " [ 12.  32.]]\n",
      "tf: \n",
      " [[ 10.  18.]\n",
      " [ 12.  32.]]\n"
     ]
    }
   ],
   "source": [
    "x = np.random.randint(0,5,[N,M]).astype(np.float32)\n",
    "y = np.random.randint(0,5,[M,K]).astype(np.float32)\n",
    "z = np.random.randint(0,5,[K])\n",
    "\n",
    "print('x:', x, sep='\\n')\n",
    "print('y:', y, sep='\\n')\n",
    "print('z:', z, sep='\\n')\n",
    "\n",
    "tf_out = sess.run(out, feed_dict={x_ph:x, y_ph:y, z_ph:z})\n",
    "np_out = matmul_and_add(x,y,z)\n",
    "print(\"\\n\\nOUTPUTS \\n\")\n",
    "print('np: \\n',np_out)\n",
    "print('tf: \\n',tf_out)"
   ]
  },
  {
   "cell_type": "code",
   "execution_count": 22,
   "metadata": {
    "collapsed": true
   },
   "outputs": [],
   "source": [
    "# Make sure you feed all required tensors before calling sess.run\n",
    "tf_out = sess.run(out, feed_dict={x_ph:x, y_ph:y, z_ph:z})"
   ]
  },
  {
   "cell_type": "code",
   "execution_count": 28,
   "metadata": {},
   "outputs": [
    {
     "name": "stdout",
     "output_type": "stream",
     "text": [
      "[ 1.  1.  1.  1.  1.  1.  1.  1.  1.  1.]\n",
      "[ 1.  1.  1.]\n"
     ]
    }
   ],
   "source": [
    "#Notices that basic indexing works\n",
    "ones = tf.ones(10)\n",
    "print(sess.run(ones))\n",
    "print(sess.run(ones[:3]))\n",
    "\n",
    "# But assignment to tf tensors doesn't work\n",
    "#ones[:3]=5\n",
    "# Could be a problem, since we want to change network weights as we learn."
   ]
  },
  {
   "cell_type": "code",
   "execution_count": 29,
   "metadata": {},
   "outputs": [
    {
     "name": "stdout",
     "output_type": "stream",
     "text": [
      "ones val [ 1.  1.  1.  1.  1.  1.  1.  1.  1.  1.]\n",
      "updated val [ 5.  5.  5.  5.  1.  1.  1.  1.  1.  1.]\n"
     ]
    }
   ],
   "source": [
    "# Actually not a problem.\n",
    "# We use variables for Tensors which have values that we wish to change\n",
    "ones = tf.Variable(tf.ones([10]))\n",
    "update = ones[:4].assign(np.full(4,5))\n",
    "\n",
    "# The variables initializer is an operation to set the initial values\n",
    "# We need to run it before we can use the values of a Variable\n",
    "\n",
    "sess.run(tf.global_variables_initializer())\n",
    "ones_val = sess.run(ones)\n",
    "sess.run(update)\n",
    "update_val = sess.run(ones)\n",
    "\n",
    "print('ones val', ones_val)\n",
    "print('updated val', update_val)"
   ]
  }
 ],
 "metadata": {
  "kernelspec": {
   "display_name": "Python 2",
   "language": "python",
   "name": "python2"
  },
  "language_info": {
   "codemirror_mode": {
    "name": "ipython",
    "version": 2
   },
   "file_extension": ".py",
   "mimetype": "text/x-python",
   "name": "python",
   "nbconvert_exporter": "python",
   "pygments_lexer": "ipython2",
   "version": "2.7.13"
  }
 },
 "nbformat": 4,
 "nbformat_minor": 2
}
