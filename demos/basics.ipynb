{
 "cells": [
  {
   "cell_type": "code",
   "execution_count": 1,
   "metadata": {
    "collapsed": true
   },
   "outputs": [],
   "source": [
    "from __future__ import division, print_function\n",
    "import tensorflow as tf\n",
    "import numpy as np\n",
    "import matplotlib.pyplot as plt"
   ]
  },
  {
   "cell_type": "code",
   "execution_count": 2,
   "metadata": {
    "collapsed": true
   },
   "outputs": [],
   "source": [
    "sess = tf.Session() # We need a session for actual values to flow through computation graph"
   ]
  },
  {
   "cell_type": "code",
   "execution_count": 3,
   "metadata": {},
   "outputs": [
    {
     "name": "stdout",
     "output_type": "stream",
     "text": [
      "x:\n",
      "[[ 0.09110813  0.97359579  0.44506863]\n",
      " [ 0.77572406  0.53635364  0.59864948]]\n",
      "y:\n",
      "[[ 0.25058599]\n",
      " [ 0.67013359]\n",
      " [ 0.34470327]]\n",
      "z:\n",
      "[[ 0.02794094]\n",
      " [ 0.34699103]]\n"
     ]
    }
   ],
   "source": [
    "## TODO: We want to multiply 2x3 and 3x1 matrixes x and y, and add a 3x1 vector z\n",
    "x = np.random.random((2,3))\n",
    "y = np.random.random((3,1))\n",
    "z = np.random.random((2,1))\n",
    "\n",
    "print('x:', x, sep='\\n')\n",
    "print('y:', y, sep='\\n')\n",
    "print('z:', z, sep='\\n')"
   ]
  },
  {
   "cell_type": "code",
   "execution_count": 4,
   "metadata": {},
   "outputs": [
    {
     "data": {
      "text/plain": [
       "0.98189442472377109"
      ]
     },
     "execution_count": 4,
     "metadata": {},
     "output_type": "execute_result"
    }
   ],
   "source": [
    "## numpy Version\n",
    "\n",
    "final_np = np.mean(np.matmul(x,y) + z)\n",
    "final_np"
   ]
  },
  {
   "cell_type": "code",
   "execution_count": 5,
   "metadata": {},
   "outputs": [
    {
     "data": {
      "text/plain": [
       "<tf.Tensor 'Mean:0' shape=() dtype=float64>"
      ]
     },
     "execution_count": 5,
     "metadata": {},
     "output_type": "execute_result"
    }
   ],
   "source": [
    "# tensorflow version\n",
    "final_tf = tf.reduce_mean(tf.matmul(x,y) + z)\n",
    "final_tf"
   ]
  },
  {
   "cell_type": "code",
   "execution_count": 6,
   "metadata": {},
   "outputs": [
    {
     "name": "stdout",
     "output_type": "stream",
     "text": [
      "sess run:  0.981894424724\n",
      "eval sess: 0.981894424724\n"
     ]
    },
    {
     "ename": "ValueError",
     "evalue": "Cannot evaluate tensor using `eval()`: No default session is registered. Use `with sess.as_default()` or pass an explicit session to `eval(session=sess)`",
     "output_type": "error",
     "traceback": [
      "\u001b[0;31m---------------------------------------------------------------------------\u001b[0m",
      "\u001b[0;31mValueError\u001b[0m                                Traceback (most recent call last)",
      "\u001b[0;32m<ipython-input-6-4397b09d4b88>\u001b[0m in \u001b[0;36m<module>\u001b[0;34m()\u001b[0m\n\u001b[1;32m      4\u001b[0m \u001b[0;32mprint\u001b[0m\u001b[0;34m(\u001b[0m\u001b[0;34m'eval sess:'\u001b[0m\u001b[0;34m,\u001b[0m \u001b[0mfinal_tf\u001b[0m\u001b[0;34m.\u001b[0m\u001b[0meval\u001b[0m\u001b[0;34m(\u001b[0m\u001b[0msession\u001b[0m\u001b[0;34m=\u001b[0m\u001b[0msess\u001b[0m\u001b[0;34m)\u001b[0m\u001b[0;34m)\u001b[0m\u001b[0;34m\u001b[0m\u001b[0m\n\u001b[1;32m      5\u001b[0m \u001b[0;31m# When using eval with an interactive session, the session argument is optional\u001b[0m\u001b[0;34m\u001b[0m\u001b[0;34m\u001b[0m\u001b[0m\n\u001b[0;32m----> 6\u001b[0;31m \u001b[0;32mprint\u001b[0m\u001b[0;34m(\u001b[0m\u001b[0;34m'eval sess:'\u001b[0m\u001b[0;34m,\u001b[0m \u001b[0mfinal_tf\u001b[0m\u001b[0;34m.\u001b[0m\u001b[0meval\u001b[0m\u001b[0;34m(\u001b[0m\u001b[0;34m)\u001b[0m\u001b[0;34m)\u001b[0m\u001b[0;34m\u001b[0m\u001b[0m\n\u001b[0m",
      "\u001b[0;32m/home/akshay/.conda/lib/python2.7/site-packages/tensorflow/python/framework/ops.pyc\u001b[0m in \u001b[0;36meval\u001b[0;34m(self, feed_dict, session)\u001b[0m\n\u001b[1;32m    567\u001b[0m \u001b[0;34m\u001b[0m\u001b[0m\n\u001b[1;32m    568\u001b[0m     \"\"\"\n\u001b[0;32m--> 569\u001b[0;31m     \u001b[0;32mreturn\u001b[0m \u001b[0m_eval_using_default_session\u001b[0m\u001b[0;34m(\u001b[0m\u001b[0mself\u001b[0m\u001b[0;34m,\u001b[0m \u001b[0mfeed_dict\u001b[0m\u001b[0;34m,\u001b[0m \u001b[0mself\u001b[0m\u001b[0;34m.\u001b[0m\u001b[0mgraph\u001b[0m\u001b[0;34m,\u001b[0m \u001b[0msession\u001b[0m\u001b[0;34m)\u001b[0m\u001b[0;34m\u001b[0m\u001b[0m\n\u001b[0m\u001b[1;32m    570\u001b[0m \u001b[0;34m\u001b[0m\u001b[0m\n\u001b[1;32m    571\u001b[0m \u001b[0;34m\u001b[0m\u001b[0m\n",
      "\u001b[0;32m/home/akshay/.conda/lib/python2.7/site-packages/tensorflow/python/framework/ops.pyc\u001b[0m in \u001b[0;36m_eval_using_default_session\u001b[0;34m(tensors, feed_dict, graph, session)\u001b[0m\n\u001b[1;32m   3725\u001b[0m     \u001b[0msession\u001b[0m \u001b[0;34m=\u001b[0m \u001b[0mget_default_session\u001b[0m\u001b[0;34m(\u001b[0m\u001b[0;34m)\u001b[0m\u001b[0;34m\u001b[0m\u001b[0m\n\u001b[1;32m   3726\u001b[0m     \u001b[0;32mif\u001b[0m \u001b[0msession\u001b[0m \u001b[0;32mis\u001b[0m \u001b[0mNone\u001b[0m\u001b[0;34m:\u001b[0m\u001b[0;34m\u001b[0m\u001b[0m\n\u001b[0;32m-> 3727\u001b[0;31m       raise ValueError(\"Cannot evaluate tensor using `eval()`: No default \"\n\u001b[0m\u001b[1;32m   3728\u001b[0m                        \u001b[0;34m\"session is registered. Use `with \"\u001b[0m\u001b[0;34m\u001b[0m\u001b[0m\n\u001b[1;32m   3729\u001b[0m                        \u001b[0;34m\"sess.as_default()` or pass an explicit session to \"\u001b[0m\u001b[0;34m\u001b[0m\u001b[0m\n",
      "\u001b[0;31mValueError\u001b[0m: Cannot evaluate tensor using `eval()`: No default session is registered. Use `with sess.as_default()` or pass an explicit session to `eval(session=sess)`"
     ]
    }
   ],
   "source": [
    "# To get an actual value, we need to run in a session\n",
    "print('sess run: ', sess.run(final_tf))\n",
    "# We can also call a tensor's eval method and pass in a session\n",
    "print('eval sess:', final_tf.eval(session=sess))\n",
    "# When using eval with an interactive session, the session argument is optional\n",
    "print('eval sess:', final_tf.eval())"
   ]
  },
  {
   "cell_type": "code",
   "execution_count": 7,
   "metadata": {},
   "outputs": [
    {
     "data": {
      "text/plain": [
       "array([[[ 0.15843594,  1.61903035],\n",
       "        [ 0.10206904,  1.20607808]],\n",
       "\n",
       "       [[ 1.04046472,  0.7444507 ],\n",
       "        [ 1.78081933,  1.0142989 ]],\n",
       "\n",
       "       [[ 0.38411312,  0.66653831],\n",
       "        [ 0.41740747,  1.04222633]],\n",
       "\n",
       "       [[ 0.78115406,  0.48578492],\n",
       "        [ 0.49928357,  0.60678237]],\n",
       "\n",
       "       [[ 0.86305521,  0.99929859],\n",
       "        [ 1.06480175,  1.14450975]]])"
      ]
     },
     "execution_count": 7,
     "metadata": {},
     "output_type": "execute_result"
    }
   ],
   "source": [
    "## Batched operations\n",
    "\n",
    "# Here we will perform batched matrix multiplication\n",
    "batch_size = 5\n",
    "N, M, K = 2,3,2\n",
    "# a_batch is a batch of 5 NxM matrices\n",
    "# b_batch is a batch of 5 MxK matrices\n",
    "a_batch = np.random.random((batch_size, N, M))\n",
    "b_batch = np.random.random((batch_size, M, K))\n",
    "\n",
    "out = tf.matmul(a_batch,b_batch)\n",
    "# out is the batch of 5 NxK matrices that result from the batch of products\n",
    "sess.run(out)\n",
    "\n",
    "## Is it kind of weird that we need to sess.run to get a constant value?"
   ]
  },
  {
   "cell_type": "code",
   "execution_count": 8,
   "metadata": {},
   "outputs": [
    {
     "data": {
      "text/plain": [
       "<tf.Tensor 'add_1:0' shape=(2, 2) dtype=float32>"
      ]
     },
     "execution_count": 8,
     "metadata": {},
     "output_type": "execute_result"
    }
   ],
   "source": [
    "# In tensorflow, we typically have runtime values in our computation graph\n",
    "# in some sense, each node in the graph is a function of `Placeholders` that flow into it\n",
    "\n",
    "# So a function like this is numpy\n",
    "def matmul_and_add(x,y,z):\n",
    "    return np.matmul(x,y)+z\n",
    "\n",
    "# Could be expressed as the following computational graph\n",
    "N,M,K= 2,3,2\n",
    "# We'll be multiplying an NxM and MxK matrices and adding a Kx1 vector\n",
    "x_ph = tf.placeholder(tf.float32, shape=[N,M])\n",
    "y_ph = tf.placeholder(tf.float32, shape=[M,K])\n",
    "z_ph = tf.placeholder(tf.float32, shape=[K])\n",
    "xy = tf.matmul(x_ph,y_ph)\n",
    "out = xy+z_ph\n",
    "out"
   ]
  },
  {
   "cell_type": "code",
   "execution_count": 11,
   "metadata": {},
   "outputs": [
    {
     "name": "stdout",
     "output_type": "stream",
     "text": [
      "x:\n",
      "[[ 2.  3.  3.]\n",
      " [ 0.  0.  3.]]\n",
      "y:\n",
      "[[ 0.  3.]\n",
      " [ 1.  1.]\n",
      " [ 4.  3.]]\n",
      "z:\n",
      "[4 3]\n",
      "\n",
      "\n",
      "OUTPUTS \n",
      "\n",
      "np: \n",
      " [[ 19.  21.]\n",
      " [ 16.  12.]]\n",
      "tf: \n",
      " [[ 15.  18.]\n",
      " [ 12.   9.]]\n"
     ]
    }
   ],
   "source": [
    "x = np.random.randint(0,5,[N,M]).astype(np.float32)\n",
    "y = np.random.randint(0,5,[M,K]).astype(np.float32)\n",
    "z = np.random.randint(0,5,[K])\n",
    "\n",
    "print('x:', x, sep='\\n')\n",
    "print('y:', y, sep='\\n')\n",
    "print('z:', z, sep='\\n')\n",
    "\n",
    "tf_out = sess.run(xy, feed_dict={x_ph:x, y_ph:y})\n",
    "np_out = matmul_and_add(x,y,z)\n",
    "print(\"\\n\\nOUTPUTS \\n\")\n",
    "print('np: \\n',np_out)\n",
    "print('tf: \\n',tf_out)"
   ]
  },
  {
   "cell_type": "code",
   "execution_count": null,
   "metadata": {
    "collapsed": true
   },
   "outputs": [],
   "source": [
    "# Make sure you feed all required tensors before calling sess.run\n",
    "tf_out = sess.run(out, feed_dict={x_ph:x, y_ph:y, z_ph:z})"
   ]
  },
  {
   "cell_type": "code",
   "execution_count": 13,
   "metadata": {},
   "outputs": [
    {
     "name": "stdout",
     "output_type": "stream",
     "text": [
      "[ 1.  1.  1.  1.  1.  1.  1.  1.  1.  1.]\n",
      "[ 1.  1.  1.]\n"
     ]
    },
    {
     "ename": "TypeError",
     "evalue": "'Tensor' object does not support item assignment",
     "output_type": "error",
     "traceback": [
      "\u001b[0;31m---------------------------------------------------------------------------\u001b[0m",
      "\u001b[0;31mTypeError\u001b[0m                                 Traceback (most recent call last)",
      "\u001b[0;32m<ipython-input-13-a51526f3e3bb>\u001b[0m in \u001b[0;36m<module>\u001b[0;34m()\u001b[0m\n\u001b[1;32m      5\u001b[0m \u001b[0;34m\u001b[0m\u001b[0m\n\u001b[1;32m      6\u001b[0m \u001b[0;31m# But assignment to tf tensors doesn't work\u001b[0m\u001b[0;34m\u001b[0m\u001b[0;34m\u001b[0m\u001b[0m\n\u001b[0;32m----> 7\u001b[0;31m \u001b[0mones\u001b[0m\u001b[0;34m[\u001b[0m\u001b[0;34m:\u001b[0m\u001b[0;36m3\u001b[0m\u001b[0;34m]\u001b[0m\u001b[0;34m=\u001b[0m\u001b[0;36m5\u001b[0m\u001b[0;34m\u001b[0m\u001b[0m\n\u001b[0m\u001b[1;32m      8\u001b[0m \u001b[0;31m# Could be a problem, since we want to change network weights as we learn.\u001b[0m\u001b[0;34m\u001b[0m\u001b[0;34m\u001b[0m\u001b[0m\n",
      "\u001b[0;31mTypeError\u001b[0m: 'Tensor' object does not support item assignment"
     ]
    }
   ],
   "source": [
    "#Notices that basic indexing works\n",
    "ones = tf.ones(10)\n",
    "print(sess.run(ones))\n",
    "print(sess.run(ones[:3]))\n",
    "\n",
    "# But assignment to tf tensors doesn't work\n",
    "ones[:3]=5\n",
    "# Could be a problem, since we want to change network weights as we learn."
   ]
  },
  {
   "cell_type": "code",
   "execution_count": 24,
   "metadata": {},
   "outputs": [
    {
     "name": "stdout",
     "output_type": "stream",
     "text": [
      "ones val [ 1.  1.  1.  1.  1.  1.  1.  1.  1.  1.]\n",
      "updated val [ 1.  1.  1.  1.  1.  1.  1.  1.  1.  1.]\n"
     ]
    }
   ],
   "source": [
    "# Actually not a problem.\n",
    "# We use variables for Tensors which have values that we wish to change\n",
    "ones = tf.Variable(tf.ones([10]))\n",
    "\n",
    "# The variables initializer is an operation to set the initial values\n",
    "# We need to run it before we can use the values of a Variable\n",
    "\n",
    "sess.run(tf.global_variables_initializer())\n",
    "ones_val = sess.run(ones)\n",
    "sess.run(update)\n",
    "update_val = sess.run(ones)\n",
    "\n",
    "print('ones val', ones_val)\n",
    "print('updated val', update_val)"
   ]
  }
 ],
 "metadata": {
  "kernelspec": {
   "display_name": "Python 2",
   "language": "python",
   "name": "python2"
  },
  "language_info": {
   "codemirror_mode": {
    "name": "ipython",
    "version": 2
   },
   "file_extension": ".py",
   "mimetype": "text/x-python",
   "name": "python",
   "nbconvert_exporter": "python",
   "pygments_lexer": "ipython2",
   "version": "2.7.13"
  }
 },
 "nbformat": 4,
 "nbformat_minor": 2
}
