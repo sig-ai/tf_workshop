{
 "cells": [
  {
   "cell_type": "markdown",
   "metadata": {
    "collapsed": true
   },
   "source": [
    "# Logistic Regression Example\n",
    "\n",
    "A logistic regression learning algorithm example using TensorFlow library.\n",
    "This example is using the MNIST database of handwritten digits (http://yann.lecun.com/exdb/mnist/)\n",
    "\n",
    "- Author: Aymeric Damien\n",
    "- Project: https://github.com/aymericdamien/TensorFlow-Examples/"
   ]
  },
  {
   "cell_type": "code",
   "execution_count": 18,
   "metadata": {},
   "outputs": [
    {
     "name": "stdout",
     "output_type": "stream",
     "text": [
      "Extracting /tmp/data/train-images-idx3-ubyte.gz\n",
      "Extracting /tmp/data/train-labels-idx1-ubyte.gz\n",
      "Extracting /tmp/data/t10k-images-idx3-ubyte.gz\n",
      "Extracting /tmp/data/t10k-labels-idx1-ubyte.gz\n"
     ]
    }
   ],
   "source": [
    "import tensorflow as tf\n",
    "import matplotlib.pyplot as plt\n",
    "import numpy as np\n",
    "# Import MINST data\n",
    "from tensorflow.examples.tutorials.mnist import input_data\n",
    "mnist = input_data.read_data_sets(\"/tmp/data/\", one_hot=True)"
   ]
  },
  {
   "cell_type": "code",
   "execution_count": 2,
   "metadata": {
    "collapsed": true
   },
   "outputs": [],
   "source": [
    "## Here, we're defining reusable components of computational graphs\n",
    "# This is the idea used by tf.contrib.slim and tflearn\n",
    "\n",
    "def linear(x, output_features):\n",
    "    input_features=(x.get_shape().as_list())[-1]\n",
    "    W = tf.Variable(tf.truncated_normal(shape=[input_features, output_features], stddev=.1))\n",
    "    b = tf.Variable(tf.constant(.1,shape=[output_features]))\n",
    "    pred = tf.add(tf.matmul(x, W), b)\n",
    "    return pred\n",
    "\n",
    "def maxpool(x, k=2, s=2):\n",
    "    \"\"\"\n",
    "    k: size of kernel\n",
    "    s: stride\n",
    "    \"\"\"\n",
    "    return tf.nn.max_pool(x, ksize=[1, 2, 2, 1],\n",
    "                          strides=[1, 2, 2, 1], padding='VALID')\n",
    "\n",
    "def convolution(x, output_channels, k=5, s=1, padding='VALID'):\n",
    "    \"\"\"\n",
    "    k: the kernel size\n",
    "    s: the stride\n",
    "\n",
    "    Implement a function to make convolutional layers.\n",
    "    Initialize an appropriate weight variable, shape=[k, k, input_channels, output_channels]\n",
    "    Initialize an bias variable, shape=[output_channels]\n",
    "\n",
    "    Use tf.nn.conv2d(), using the arguments appropriately\n",
    "    \n",
    "    \"\"\"\n",
    "    input_channels=(x.get_shape().as_list())[-1]\n",
    "    stride = [1,s,s,1]\n",
    "    W = tf.Variable(tf.truncated_normal(shape=[k,k,input_channels, output_channels], stddev=.1))\n",
    "    b = tf.Variable(tf.constant(.1,shape=[output_channels]))\n",
    "    conv_out = tf.nn.conv2d(x, W,stride, padding=padding)\n",
    "    return conv_out+b"
   ]
  },
  {
   "cell_type": "code",
   "execution_count": 10,
   "metadata": {},
   "outputs": [
    {
     "name": "stdout",
     "output_type": "stream",
     "text": [
      "\n"
     ]
    }
   ],
   "source": [
    "## Here, we define different models we can use for MNIST classification\n",
    "## Each model outputs a vector of 10 scores, which will turn into probabilities through softmax\n",
    "\n",
    "def linear_model(x):\n",
    "    return tf.nn.softmax(linear(x,10))\n",
    "\n",
    "def dense_model(x):\n",
    "    \"\"\"\n",
    "    Implement a network with the following architecture:\n",
    "    \n",
    "    Hidden layer 1: 256 units, with RELU activation\n",
    "    Hidden Layer 2: 256 units, with RELU activation\n",
    "    \"\"\"\n",
    "    h1 = tf.nn.relu(linear(x, 256))\n",
    "    h2 = tf.nn.relu(linear(x, 512))\n",
    "    logits=linear(h2,10)\n",
    "    return tf.nn.softmax(logits)\n",
    "\n",
    "def lenet(x):\n",
    "    \"\"\"\n",
    "    Implement a network with the following architecture:\n",
    "    \n",
    "    Conv1: uses a 5x5 kernel, and outputs 6 channels\n",
    "    Use RELU\n",
    "    Max pool 1: with a 2x2 kernel and stride of 2\n",
    "    Conv2: uses a 5x5 kernel, and outputs 16 channels\n",
    "    Use RELU\n",
    "    Max pool 2: with a 2x2 kernel and stride of 2\n",
    "    \n",
    "    FLATTEN:\n",
    "    (Hint, tf.reshape([output of maxpool_2], [-1, 4*4*16]))\n",
    "    \n",
    "    Hidden layer 1: 120 units, with RELU activation\n",
    "    Hidden layer 1: 84 units, with RELU activation\n",
    "    Output layer: 10 units\n",
    "    \"\"\"\n",
    "    x = tf.reshape(x,(-1, 28,28, 1))\n",
    "    for channels in [6,16]:\n",
    "        x = convolution(x, channels,k=5)\n",
    "        x = tf.nn.relu(x,)\n",
    "        x = maxpool(x, k=2, s=2)\n",
    "    x = tf.reshape(x, [-1, 4*4*16])\n",
    "    for units in [120,84]:\n",
    "        x = linear(x, units)\n",
    "        x = tf.nn.relu(x)\n",
    "    out = tf.nn.softmax(linear(x, 10))\n",
    "    return out\n",
    "\n",
    "model = lenet"
   ]
  },
  {
   "cell_type": "code",
   "execution_count": 20,
   "metadata": {},
   "outputs": [
    {
     "name": "stdout",
     "output_type": "stream",
     "text": [
      "Tensor(\"Reshape_12:0\", shape=(?, 28, 28, 1), dtype=float32)\n",
      "Tensor(\"MaxPool_13:0\", shape=(?, 4, 4, 16), dtype=float32)\n"
     ]
    }
   ],
   "source": [
    "# Parameters\n",
    "learning_rate = 0.1\n",
    "\n",
    "training_epochs = 25\n",
    "batch_size = 100\n",
    "display_step = 1\n",
    "\n",
    "# tf Graph Input\n",
    "x = tf.placeholder(tf.float32, [None, 784]) # mnist data image of shape 28*28=784\n",
    "y = tf.placeholder(tf.float32, [None, 10]) # 0-9 digits recognition => 10 classes\n",
    "\n",
    "# Construct model\n",
    "pred = model(x)\n",
    "# Minimize error using cross entropy\n",
    "cost = tf.reduce_mean(-tf.reduce_sum(y*tf.log(pred), reduction_indices=1))\n",
    "# Gradient Descent\n",
    "optimizer = tf.train.GradientDescentOptimizer(learning_rate).minimize(cost)\n",
    "\n",
    "# Initialize the variables (i.e. assign their default value)\n",
    "init = tf.global_variables_initializer()"
   ]
  },
  {
   "cell_type": "code",
   "execution_count": null,
   "metadata": {},
   "outputs": [
    {
     "name": "stdout",
     "output_type": "stream",
     "text": [
      "('Epoch:', '0001', 'cost=', '0.378656301')\n",
      "('Epoch:', '0002', 'cost=', '0.091921244')\n",
      "('Epoch:', '0003', 'cost=', '0.064853143')\n",
      "('Epoch:', '0004', 'cost=', '0.053498677')\n",
      "('Epoch:', '0005', 'cost=', '0.043959983')\n",
      "('Epoch:', '0006', 'cost=', '0.038162009')\n",
      "('Epoch:', '0007', 'cost=', '0.033632723')\n",
      "('Epoch:', '0008', 'cost=', '0.028944197')\n",
      "('Epoch:', '0009', 'cost=', '0.026005806')\n",
      "('Epoch:', '0010', 'cost=', '0.023009028')\n",
      "('Epoch:', '0011', 'cost=', '0.021064913')\n",
      "('Epoch:', '0012', 'cost=', '0.017910439')\n",
      "('Epoch:', '0013', 'cost=', '0.016662313')\n",
      "('Epoch:', '0014', 'cost=', '0.014967343')\n",
      "('Epoch:', '0015', 'cost=', '0.012194657')\n"
     ]
    }
   ],
   "source": [
    "# Start training\n",
    "with tf.Session() as sess:\n",
    "    sess.run(init)\n",
    "\n",
    "    # Training cycle\n",
    "    for epoch in range(training_epochs):\n",
    "        avg_cost = 0.\n",
    "        total_batch = int(mnist.train.num_examples/batch_size)\n",
    "        # Loop over all batches\n",
    "        for i in range(total_batch):\n",
    "            batch_xs, batch_ys = mnist.train.next_batch(batch_size)\n",
    "            # Fit training using batch data\n",
    "            _, c = sess.run([optimizer, cost], feed_dict={x: batch_xs,\n",
    "                                                          y: batch_ys})\n",
    "            # Compute average loss\n",
    "            avg_cost += c / total_batch\n",
    "        # Display logs per epoch step\n",
    "        if (epoch+1) % display_step == 0:\n",
    "            print (\"Epoch:\", '%04d' % (epoch+1), \"cost=\", \"{:.9f}\".format(avg_cost))\n",
    "\n",
    "    print(\"Optimization Finished!\")\n",
    "\n",
    "    # Test model\n",
    "    correct_prediction = tf.equal(tf.argmax(pred, 1), tf.argmax(y, 1))\n",
    "    # Calculate accuracy for 3000 examples\n",
    "    accuracy = tf.reduce_mean(tf.cast(correct_prediction, tf.float32))\n",
    "\n",
    "    print \"Accuracy:\", accuracy.eval({x: mnist.test.images[:3000], y: mnist.test.labels[:3000]})\n",
    "    n_images = 4\n",
    "    # Get images from test set\n",
    "    test_images = mnist.test.images[:n_images]\n",
    "    preds = sess.run(pred, feed_dict={x:test_images})\n",
    "# Display\n",
    "    for i in range(n_images):\n",
    "        plt.imshow(np.reshape(test_images[i], [28, 28]), cmap='gray')\n",
    "        plt.show()\n",
    "        print(\"Model prediction:\", np.argmax(preds[i]))"
   ]
  },
  {
   "cell_type": "code",
   "execution_count": null,
   "metadata": {
    "collapsed": true
   },
   "outputs": [],
   "source": [
    "# Predict single images"
   ]
  }
 ],
 "metadata": {
  "anaconda-cloud": {},
  "kernelspec": {
   "display_name": "Python 2",
   "language": "python",
   "name": "python2"
  },
  "language_info": {
   "codemirror_mode": {
    "name": "ipython",
    "version": 2
   },
   "file_extension": ".py",
   "mimetype": "text/x-python",
   "name": "python",
   "nbconvert_exporter": "python",
   "pygments_lexer": "ipython2",
   "version": "2.7.13"
  }
 },
 "nbformat": 4,
 "nbformat_minor": 1
}
